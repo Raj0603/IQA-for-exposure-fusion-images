{
 "cells": [
  {
   "cell_type": "code",
   "execution_count": 1,
   "metadata": {
    "colab": {
     "base_uri": "https://localhost:8080/"
    },
    "id": "8TGP_gjYf0hR",
    "outputId": "1c052e46-eac7-45fb-953d-8a7363627bcb"
   },
   "outputs": [
    {
     "name": "stdout",
     "output_type": "stream",
     "text": [
      "RMS Contrast using I component: 0.24778308\n",
      "Mean Saturation: 0.21879543\n",
      "Entropy based on I component: 7.619474904460263\n"
     ]
    },
    {
     "name": "stderr",
     "output_type": "stream",
     "text": [
      "C:\\Users\\Duks\\anaconda3\\envs\\python-cvcourse\\lib\\site-packages\\ipykernel_launcher.py:20: RuntimeWarning: invalid value encountered in sqrt\n"
     ]
    }
   ],
   "source": [
    "import cv2\n",
    "import numpy as np\n",
    "\n",
    "def rgb_to_hsi(image):\n",
    "    # Normalize pixel values to the range [0, 1]\n",
    "    image_normalized = image.astype(np.float32) / 255.0\n",
    "\n",
    "    # Extract R, G, B components\n",
    "    R, G, B = image_normalized[:, :, 0], image_normalized[:, :, 1], image_normalized[:, :, 2]\n",
    "\n",
    "    # Compute Intensity (I)\n",
    "    I = (R + G + B) / 3.0\n",
    "\n",
    "    # Compute Saturation (S)\n",
    "    minimum = np.minimum(np.minimum(R, G), B)\n",
    "    S = 1 - (3 / (R + G + B + 0.001) * minimum)\n",
    "\n",
    "    # Compute Hue (H)\n",
    "    numerator = 0.5 * ((R - G) + (R - B))\n",
    "    denominator = np.sqrt((R - G)**2 + (R - B) * (G - B))\n",
    "    theta = np.arccos(np.clip(numerator / (denominator + 1e-10), -1.0, 1.0))\n",
    "    H = np.degrees(theta)\n",
    "    H[B > G] = 360 - H[B > G]\n",
    "\n",
    "    return H, S, I\n",
    "\n",
    "def calculate_entropy(intensity_channel):\n",
    "    # Calculate histogram of intensity values\n",
    "    hist, _ = np.histogram(intensity_channel, bins=256, range=(0, 1))\n",
    "\n",
    "    # Compute probability distribution\n",
    "    prob_distribution = hist / np.sum(hist)\n",
    "\n",
    "    # Remove zero probabilities to avoid NaN in the entropy calculation\n",
    "    non_zero_probs = prob_distribution[prob_distribution > 0]\n",
    "\n",
    "    # Calculate entropy\n",
    "    entropy = -np.sum(non_zero_probs * np.log2(non_zero_probs))\n",
    "\n",
    "    return entropy\n",
    "\n",
    "def calculate_rms_contrast(intensity_channel):\n",
    "    # Calculate the standard deviation of the intensity channel\n",
    "    std_intensity = np.std(intensity_channel)\n",
    "\n",
    "    return std_intensity\n",
    "\n",
    "if __name__ == \"__main__\":\n",
    "    # Load the input image\n",
    "    image_path = \"ettom.jpg\"  # Replace with the actual image path\n",
    "    image = cv2.imread(image_path)\n",
    "\n",
    "    # Convert BGR to RGB (OpenCV loads images in BGR format)\n",
    "    image_rgb = cv2.cvtColor(image, cv2.COLOR_BGR2RGB)\n",
    "\n",
    "    # Convert RGB to HSI\n",
    "    H, S, I = rgb_to_hsi(image_rgb)\n",
    "\n",
    "\n",
    "    # Calculate RMS contrast using the Intensity (I) component\n",
    "    rms_contrast = calculate_rms_contrast(I)\n",
    "    print(\"RMS Contrast using I component:\", rms_contrast)\n",
    "\n",
    "    # Calculate the mean value of the S component\n",
    "    mean_saturation = np.mean(S)\n",
    "    print(\"Mean Saturation:\", mean_saturation)\n",
    "\n",
    "    # Calculate entropy based on the Intensity (I) component\n",
    "    entropy_I = calculate_entropy(I)\n",
    "    print(\"Entropy based on I component:\", entropy_I)"
   ]
  },
  {
   "cell_type": "code",
   "execution_count": null,
   "metadata": {},
   "outputs": [],
   "source": []
  }
 ],
 "metadata": {
  "colab": {
   "provenance": []
  },
  "kernelspec": {
   "display_name": "Python 3",
   "language": "python",
   "name": "python3"
  },
  "language_info": {
   "codemirror_mode": {
    "name": "ipython",
    "version": 3
   },
   "file_extension": ".py",
   "mimetype": "text/x-python",
   "name": "python",
   "nbconvert_exporter": "python",
   "pygments_lexer": "ipython3",
   "version": "3.6.6"
  }
 },
 "nbformat": 4,
 "nbformat_minor": 1
}
