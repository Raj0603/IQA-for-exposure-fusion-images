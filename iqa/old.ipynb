{
 "cells": [
  {
   "cell_type": "code",
   "execution_count": 2,
   "metadata": {},
   "outputs": [
    {
     "name": "stderr",
     "output_type": "stream",
     "text": [
      "C:\\Users\\Duks\\anaconda3\\envs\\python-cvcourse\\lib\\site-packages\\ipykernel_launcher.py:22: RuntimeWarning: invalid value encountered in sqrt\n"
     ]
    },
    {
     "name": "stdout",
     "output_type": "stream",
     "text": [
      "Processed 12 images and saved results in output_results.csv\n"
     ]
    }
   ],
   "source": [
    "import cv2\n",
    "import numpy as np\n",
    "import os\n",
    "import csv\n",
    "\n",
    "def rgb_to_hsi(image):\n",
    "    # Normalize pixel values to the range [0, 1]\n",
    "    image_normalized = image.astype(np.float32) / 255.0\n",
    "\n",
    "    # Extract R, G, B components\n",
    "    R, G, B = image_normalized[:, :, 0], image_normalized[:, :, 1], image_normalized[:, :, 2]\n",
    "\n",
    "    # Compute Intensity (I)\n",
    "    I = (R + G + B) / 3.0\n",
    "\n",
    "    # Compute Saturation (S)\n",
    "    minimum = np.minimum(np.minimum(R, G), B)\n",
    "    S = 1 - (3 / (R + G + B + 0.001) * minimum)\n",
    "\n",
    "    # Compute Hue (H)\n",
    "    numerator = 0.5 * ((R - G) + (R - B))\n",
    "    denominator = np.sqrt((R - G)**2 + (R - B) * (G - B))\n",
    "    theta = np.arccos(np.clip(numerator / (denominator + 1e-10), -1.0, 1.0))\n",
    "    H = np.degrees(theta)\n",
    "    H[B > G] = 360 - H[B > G]\n",
    "\n",
    "    return H, S, I\n",
    "\n",
    "\n",
    "def calculate_entropy(intensity_channel):\n",
    "    # Calculate histogram of intensity values\n",
    "    hist, _ = np.histogram(intensity_channel, bins=256, range=(0, 1))\n",
    "\n",
    "    # Compute probability distribution\n",
    "    prob_distribution = hist / np.sum(hist)\n",
    "\n",
    "    # Remove zero probabilities to avoid NaN in the entropy calculation\n",
    "    non_zero_probs = prob_distribution[prob_distribution > 0]\n",
    "\n",
    "    # Calculate entropy\n",
    "    entropy = -np.sum(non_zero_probs * np.log2(non_zero_probs))\n",
    "\n",
    "    return entropy\n",
    "\n",
    "\n",
    "def calculate_local_entropy_partial(intensity_channel, window_size=3):\n",
    "    height, width = intensity_channel.shape\n",
    "\n",
    "    # Calculate the number of non-overlapping blocks in height and width\n",
    "    block_height = height // window_size\n",
    "    block_width = width // window_size\n",
    "\n",
    "    # Reshape the intensity channel to a 4D array with dimensions for block_height and block_width\n",
    "    blocks = intensity_channel[:block_height * window_size, :block_width * window_size] \\\n",
    "        .reshape(block_height, window_size, block_width, window_size)\n",
    "\n",
    "    # Calculate histogram for all blocks\n",
    "    hist, _ = np.histogram(blocks, bins=256, range=(0, 1))\n",
    "\n",
    "    # Compute probability distribution\n",
    "    prob_distribution = hist / np.sum(hist)\n",
    "\n",
    "    # Remove zero probabilities to avoid NaN in the entropy calculation\n",
    "    non_zero_probs = np.where(prob_distribution > 0, prob_distribution, 1.0)\n",
    "\n",
    "    # Calculate entropy for all blocks\n",
    "    local_entropy = -np.sum(non_zero_probs * np.log2(non_zero_probs))\n",
    "\n",
    "    return local_entropy\n",
    "\n",
    "\n",
    "\n",
    "def calculate_rms_contrast(intensity_channel):\n",
    "    # Calculate the standard deviation of the intensity channel\n",
    "    std_intensity = np.std(intensity_channel)\n",
    "\n",
    "    return std_intensity\n",
    "\n",
    "\n",
    "def calculate_local_contrast(intensity_channel, window_size=3):\n",
    "    height, width = intensity_channel.shape\n",
    "\n",
    "    # Calculate the number of non-overlapping blocks in height and width\n",
    "    block_height = height // window_size\n",
    "    block_width = width // window_size\n",
    "\n",
    "    # Reshape the intensity channel to a 4D array with dimensions for block_height and block_width\n",
    "    blocks = intensity_channel[:block_height * window_size, :block_width * window_size] \\\n",
    "        .reshape(block_height, window_size, block_width, window_size)\n",
    "\n",
    "    local_contrast = np.zeros((block_height, block_width))\n",
    "\n",
    "    for i in range(block_height):\n",
    "        for j in range(block_width):\n",
    "            block = blocks[i, :, j, :]\n",
    "\n",
    "            # Calculate standard deviation for the block\n",
    "            local_contrast[i, j] = np.std(block)\n",
    "\n",
    "    # Calculate the mean of local contrasts\n",
    "    local_contrast_mean = np.mean(local_contrast)\n",
    "            \n",
    "    return local_contrast_mean\n",
    "\n",
    "\n",
    "\n",
    "def process_image(image_path):\n",
    "    # Load the input image\n",
    "    image = cv2.imread(image_path)\n",
    "\n",
    "    # Convert BGR to RGB (OpenCV loads images in BGR format)\n",
    "    image_rgb = cv2.cvtColor(image, cv2.COLOR_BGR2RGB)\n",
    "\n",
    "    # Convert RGB to HSI\n",
    "    H, S, I = rgb_to_hsi(image_rgb)\n",
    "\n",
    "    # Calculate RMS contrast using the Intensity (I) component\n",
    "    rms_contrast_value = calculate_rms_contrast(I)\n",
    "\n",
    "    # Calculate the mean value of the S component\n",
    "    mean_saturation = np.mean(S)\n",
    "\n",
    "    # Calculate entropy based on the Intensity (I) component\n",
    "    entropy_I = calculate_entropy(I)\n",
    "    \n",
    "    #local entropy\n",
    "    loc_ent = calculate_local_entropy_partial(I)\n",
    "    \n",
    "    #local contrast\n",
    "    local_contrast = calculate_local_contrast(I, 5)\n",
    "\n",
    "\n",
    "    return [image_path, rms_contrast_value, mean_saturation, entropy_I, loc_ent, local_contrast]\n",
    "\n",
    "\n",
    "if __name__ == \"__main__\":\n",
    "    input_folder = \"pics\"  \n",
    "    output_csv = \"output_results.csv\"\n",
    "\n",
    "    # Initialize a CSV file for writing\n",
    "    with open(output_csv, 'w', newline='') as csvfile:\n",
    "        csv_writer = csv.writer(csvfile)\n",
    "        \n",
    "        # Write the header row\n",
    "        csv_writer.writerow([\"Image Path\", \"RMS Contrast\", \"Mean Saturation\", \"Entropy\", \"Local Entropy\", \"local contrast\"])\n",
    "\n",
    "        # Iterate through all image files in the folder\n",
    "        for filename in os.listdir(input_folder):\n",
    "            if filename.endswith(\".jpg\") or filename.endswith(\".png\"):  # Filter by image file extensions\n",
    "                image_path = os.path.join(input_folder, filename)\n",
    "                results = process_image(image_path)\n",
    "\n",
    "                # Write the results to the CSV file\n",
    "                csv_writer.writerow(results)\n",
    "    \n",
    "    print(f\"Processed {len(os.listdir(input_folder))} images and saved results in {output_csv}\")\n"
   ]
  },
  {
   "cell_type": "code",
   "execution_count": 4,
   "metadata": {},
   "outputs": [
    {
     "name": "stdout",
     "output_type": "stream",
     "text": [
      "Processed 12 images and saved results in test.csv\n"
     ]
    }
   ],
   "source": [
    "import cv2\n",
    "import numpy as np\n",
    "import os\n",
    "import csv\n",
    "\n",
    "def rgb_to_hsv(image):\n",
    "   # Normalize pixel values to the range [0, 1]\n",
    "    image_normalized = image.astype(np.float32) / 255.0\n",
    "\n",
    "    # Extract R, G, B components\n",
    "    R, G, B = image_normalized[:, :, 0], image_normalized[:, :, 1], image_normalized[:, :, 2]\n",
    "\n",
    "    # Compute Value (V)\n",
    "    V = np.max(image_normalized, axis=2)\n",
    "\n",
    "    # Compute Saturation (S)\n",
    "    denominator = np.where(V != 0, V, 1.0)\n",
    "    S = (V - np.min(image_normalized, axis=2)) / denominator\n",
    "\n",
    "    # Compute Hue (H)\n",
    "    delta_R = (V - R) / (6 * denominator + 1e-10) + 1.0\n",
    "    delta_G = (V - G) / (6 * denominator + 1e-10) + 1.0\n",
    "    delta_B = (V - B) / (6 * denominator + 1e-10) + 1.0\n",
    "\n",
    "    H = np.where(V == R, delta_B - delta_G, np.where(V == G, 2.0 + delta_R - delta_B, 4.0 + delta_G - delta_R))\n",
    "    H = (H / 6.0) % 1.0\n",
    "\n",
    "    return H * 360, S, V\n",
    "\n",
    "\n",
    "def calculate_entropy(intensity_channel):\n",
    "    # Calculate histogram of intensity values\n",
    "    hist, _ = np.histogram(intensity_channel, bins=256, range=(0, 1))\n",
    "\n",
    "    # Compute probability distribution\n",
    "    prob_distribution = hist / np.sum(hist)\n",
    "\n",
    "    # Remove zero probabilities to avoid NaN in the entropy calculation\n",
    "    non_zero_probs = prob_distribution[prob_distribution > 0]\n",
    "\n",
    "    # Calculate entropy\n",
    "    entropy = -np.sum(non_zero_probs * np.log2(non_zero_probs))\n",
    "\n",
    "    return entropy\n",
    "\n",
    "\n",
    "def calculate_local_entropy_partial(intensity_channel, window_size=3):\n",
    "    height, width = intensity_channel.shape\n",
    "\n",
    "    # Calculate the number of non-overlapping blocks in height and width\n",
    "    block_height = height // window_size\n",
    "    block_width = width // window_size\n",
    "\n",
    "    # Reshape the intensity channel to a 4D array with dimensions for block_height and block_width\n",
    "    blocks = intensity_channel[:block_height * window_size, :block_width * window_size] \\\n",
    "        .reshape(block_height, window_size, block_width, window_size)\n",
    "\n",
    "    # Calculate histogram for all blocks\n",
    "    hist, _ = np.histogram(blocks, bins=256, range=(0, 1))\n",
    "\n",
    "    # Compute probability distribution\n",
    "    prob_distribution = hist / np.sum(hist)\n",
    "\n",
    "    # Remove zero probabilities to avoid NaN in the entropy calculation\n",
    "    non_zero_probs = np.where(prob_distribution > 0, prob_distribution, 1.0)\n",
    "\n",
    "    # Calculate entropy for all blocks\n",
    "    local_entropy = -np.sum(non_zero_probs * np.log2(non_zero_probs))\n",
    "\n",
    "    return local_entropy\n",
    "\n",
    "\n",
    "\n",
    "def calculate_rms_contrast(intensity_channel):\n",
    "    # Calculate the standard deviation of the intensity channel\n",
    "    std_intensity = np.std(intensity_channel)\n",
    "\n",
    "    return std_intensity\n",
    "\n",
    "\n",
    "def calculate_local_contrast(intensity_channel, window_size=3):\n",
    "    height, width = intensity_channel.shape\n",
    "\n",
    "    # Calculate the number of non-overlapping blocks in height and width\n",
    "    block_height = height // window_size\n",
    "    block_width = width // window_size\n",
    "\n",
    "    # Reshape the intensity channel to a 4D array with dimensions for block_height and block_width\n",
    "    blocks = intensity_channel[:block_height * window_size, :block_width * window_size] \\\n",
    "        .reshape(block_height, window_size, block_width, window_size)\n",
    "\n",
    "    local_contrast = np.zeros((block_height, block_width))\n",
    "\n",
    "    for i in range(block_height):\n",
    "        for j in range(block_width):\n",
    "            block = blocks[i, :, j, :]\n",
    "\n",
    "            # Calculate standard deviation for the block\n",
    "            local_contrast[i, j] = np.std(block)\n",
    "\n",
    "    # Calculate the mean of local contrasts\n",
    "    local_contrast_mean = np.mean(local_contrast)\n",
    "            \n",
    "    return local_contrast_mean\n",
    "\n",
    "\n",
    "\n",
    "def process_image(image_path):\n",
    "    # Load the input image\n",
    "    image = cv2.imread(image_path)\n",
    "\n",
    "    # Convert BGR to RGB (OpenCV loads images in BGR format)\n",
    "    image_rgb = cv2.cvtColor(image, cv2.COLOR_BGR2RGB)\n",
    "\n",
    "    # Convert RGB to HSV\n",
    "    H, S, V = rgb_to_hsv(image_rgb)\n",
    "\n",
    "    # Calculate RMS contrast using the Intensity (V) component\n",
    "    rms_contrast_value = calculate_rms_contrast(V)\n",
    "\n",
    "    # Calculate the mean value of the S component\n",
    "    mean_saturation = np.mean(S)\n",
    "\n",
    "    # Calculate entropy based on the Intensity (V) component\n",
    "    entropy_I = calculate_entropy(V)\n",
    "    \n",
    "    #local entropy\n",
    "    loc_ent = calculate_local_entropy_partial(V)\n",
    "    \n",
    "    #local contrast\n",
    "    local_contrast = calculate_local_contrast(V, 5)\n",
    "\n",
    "\n",
    "    return [image_path, rms_contrast_value, mean_saturation, entropy_I, loc_ent, local_contrast]\n",
    "\n",
    "\n",
    "if __name__ == \"__main__\":\n",
    "    input_folder = \"pics\"  \n",
    "    output_csv = \"test.csv\"\n",
    "\n",
    "    # Initialize a CSV file for writing\n",
    "    with open(output_csv, 'w', newline='') as csvfile:\n",
    "        csv_writer = csv.writer(csvfile)\n",
    "        \n",
    "        # Write the header row\n",
    "        csv_writer.writerow([\"Image Path\", \"RMS Contrast\", \"Mean Saturation\", \"Entropy\", \"Local Entropy\", \"local contrast\"])\n",
    "\n",
    "        # Iterate through all image files in the folder\n",
    "        for filename in os.listdir(input_folder):\n",
    "            if filename.endswith(\".jpg\") or filename.endswith(\".png\"):  # Filter by image file extensions\n",
    "                image_path = os.path.join(input_folder, filename)\n",
    "                results = process_image(image_path)\n",
    "\n",
    "                # Write the results to the CSV file\n",
    "                csv_writer.writerow(results)\n",
    "    \n",
    "    print(f\"Processed {len(os.listdir(input_folder))} images and saved results in {output_csv}\")"
   ]
  },
  {
   "cell_type": "code",
   "execution_count": null,
   "metadata": {},
   "outputs": [],
   "source": []
  },
  {
   "cell_type": "code",
   "execution_count": null,
   "metadata": {},
   "outputs": [],
   "source": []
  },
  {
   "cell_type": "code",
   "execution_count": null,
   "metadata": {},
   "outputs": [],
   "source": []
  },
  {
   "cell_type": "code",
   "execution_count": null,
   "metadata": {},
   "outputs": [],
   "source": []
  },
  {
   "cell_type": "code",
   "execution_count": null,
   "metadata": {},
   "outputs": [],
   "source": []
  },
  {
   "cell_type": "code",
   "execution_count": null,
   "metadata": {},
   "outputs": [],
   "source": []
  },
  {
   "cell_type": "code",
   "execution_count": null,
   "metadata": {},
   "outputs": [],
   "source": []
  },
  {
   "cell_type": "code",
   "execution_count": null,
   "metadata": {},
   "outputs": [],
   "source": []
  },
  {
   "cell_type": "code",
   "execution_count": null,
   "metadata": {},
   "outputs": [],
   "source": []
  },
  {
   "cell_type": "code",
   "execution_count": null,
   "metadata": {},
   "outputs": [],
   "source": []
  },
  {
   "cell_type": "code",
   "execution_count": null,
   "metadata": {},
   "outputs": [],
   "source": []
  },
  {
   "cell_type": "code",
   "execution_count": null,
   "metadata": {},
   "outputs": [],
   "source": []
  },
  {
   "cell_type": "code",
   "execution_count": null,
   "metadata": {},
   "outputs": [],
   "source": []
  },
  {
   "cell_type": "code",
   "execution_count": null,
   "metadata": {},
   "outputs": [],
   "source": []
  },
  {
   "cell_type": "code",
   "execution_count": null,
   "metadata": {},
   "outputs": [],
   "source": []
  },
  {
   "cell_type": "code",
   "execution_count": null,
   "metadata": {},
   "outputs": [],
   "source": []
  },
  {
   "cell_type": "code",
   "execution_count": null,
   "metadata": {},
   "outputs": [],
   "source": []
  },
  {
   "cell_type": "code",
   "execution_count": null,
   "metadata": {},
   "outputs": [],
   "source": []
  },
  {
   "cell_type": "code",
   "execution_count": null,
   "metadata": {},
   "outputs": [],
   "source": []
  },
  {
   "cell_type": "code",
   "execution_count": null,
   "metadata": {},
   "outputs": [],
   "source": []
  },
  {
   "cell_type": "code",
   "execution_count": null,
   "metadata": {},
   "outputs": [],
   "source": []
  },
  {
   "cell_type": "code",
   "execution_count": null,
   "metadata": {},
   "outputs": [],
   "source": []
  },
  {
   "cell_type": "code",
   "execution_count": null,
   "metadata": {},
   "outputs": [],
   "source": []
  },
  {
   "cell_type": "code",
   "execution_count": null,
   "metadata": {},
   "outputs": [],
   "source": []
  },
  {
   "cell_type": "code",
   "execution_count": null,
   "metadata": {},
   "outputs": [],
   "source": []
  },
  {
   "cell_type": "code",
   "execution_count": null,
   "metadata": {},
   "outputs": [],
   "source": []
  },
  {
   "cell_type": "code",
   "execution_count": null,
   "metadata": {},
   "outputs": [],
   "source": []
  },
  {
   "cell_type": "code",
   "execution_count": null,
   "metadata": {},
   "outputs": [],
   "source": []
  },
  {
   "cell_type": "code",
   "execution_count": null,
   "metadata": {},
   "outputs": [],
   "source": []
  },
  {
   "cell_type": "code",
   "execution_count": null,
   "metadata": {},
   "outputs": [],
   "source": []
  },
  {
   "cell_type": "code",
   "execution_count": null,
   "metadata": {},
   "outputs": [],
   "source": []
  },
  {
   "cell_type": "code",
   "execution_count": null,
   "metadata": {},
   "outputs": [],
   "source": []
  },
  {
   "cell_type": "code",
   "execution_count": null,
   "metadata": {},
   "outputs": [],
   "source": []
  },
  {
   "cell_type": "code",
   "execution_count": null,
   "metadata": {},
   "outputs": [],
   "source": []
  },
  {
   "cell_type": "code",
   "execution_count": null,
   "metadata": {},
   "outputs": [],
   "source": []
  },
  {
   "cell_type": "code",
   "execution_count": null,
   "metadata": {},
   "outputs": [],
   "source": []
  },
  {
   "cell_type": "code",
   "execution_count": null,
   "metadata": {},
   "outputs": [],
   "source": []
  },
  {
   "cell_type": "code",
   "execution_count": null,
   "metadata": {},
   "outputs": [],
   "source": []
  },
  {
   "cell_type": "code",
   "execution_count": null,
   "metadata": {},
   "outputs": [],
   "source": []
  },
  {
   "cell_type": "code",
   "execution_count": null,
   "metadata": {},
   "outputs": [],
   "source": []
  },
  {
   "cell_type": "code",
   "execution_count": null,
   "metadata": {},
   "outputs": [],
   "source": []
  },
  {
   "cell_type": "code",
   "execution_count": null,
   "metadata": {},
   "outputs": [],
   "source": []
  },
  {
   "cell_type": "code",
   "execution_count": null,
   "metadata": {},
   "outputs": [],
   "source": []
  },
  {
   "cell_type": "code",
   "execution_count": null,
   "metadata": {},
   "outputs": [],
   "source": []
  },
  {
   "cell_type": "code",
   "execution_count": null,
   "metadata": {},
   "outputs": [],
   "source": []
  },
  {
   "cell_type": "code",
   "execution_count": null,
   "metadata": {},
   "outputs": [],
   "source": []
  },
  {
   "cell_type": "code",
   "execution_count": null,
   "metadata": {},
   "outputs": [],
   "source": []
  },
  {
   "cell_type": "code",
   "execution_count": null,
   "metadata": {},
   "outputs": [],
   "source": []
  },
  {
   "cell_type": "code",
   "execution_count": null,
   "metadata": {},
   "outputs": [],
   "source": []
  },
  {
   "cell_type": "code",
   "execution_count": null,
   "metadata": {},
   "outputs": [],
   "source": []
  },
  {
   "cell_type": "code",
   "execution_count": null,
   "metadata": {},
   "outputs": [],
   "source": []
  },
  {
   "cell_type": "code",
   "execution_count": null,
   "metadata": {},
   "outputs": [],
   "source": []
  },
  {
   "cell_type": "code",
   "execution_count": null,
   "metadata": {},
   "outputs": [],
   "source": []
  },
  {
   "cell_type": "code",
   "execution_count": null,
   "metadata": {},
   "outputs": [],
   "source": []
  },
  {
   "cell_type": "code",
   "execution_count": null,
   "metadata": {},
   "outputs": [],
   "source": []
  },
  {
   "cell_type": "code",
   "execution_count": null,
   "metadata": {},
   "outputs": [],
   "source": []
  },
  {
   "cell_type": "code",
   "execution_count": null,
   "metadata": {},
   "outputs": [],
   "source": []
  },
  {
   "cell_type": "code",
   "execution_count": null,
   "metadata": {},
   "outputs": [],
   "source": []
  },
  {
   "cell_type": "code",
   "execution_count": null,
   "metadata": {},
   "outputs": [],
   "source": []
  },
  {
   "cell_type": "code",
   "execution_count": null,
   "metadata": {},
   "outputs": [],
   "source": []
  },
  {
   "cell_type": "code",
   "execution_count": null,
   "metadata": {},
   "outputs": [],
   "source": []
  },
  {
   "cell_type": "code",
   "execution_count": null,
   "metadata": {},
   "outputs": [],
   "source": []
  },
  {
   "cell_type": "code",
   "execution_count": null,
   "metadata": {},
   "outputs": [],
   "source": []
  },
  {
   "cell_type": "code",
   "execution_count": null,
   "metadata": {},
   "outputs": [],
   "source": []
  },
  {
   "cell_type": "code",
   "execution_count": null,
   "metadata": {},
   "outputs": [],
   "source": []
  },
  {
   "cell_type": "code",
   "execution_count": null,
   "metadata": {},
   "outputs": [],
   "source": []
  },
  {
   "cell_type": "code",
   "execution_count": null,
   "metadata": {},
   "outputs": [],
   "source": []
  },
  {
   "cell_type": "code",
   "execution_count": null,
   "metadata": {},
   "outputs": [],
   "source": []
  },
  {
   "cell_type": "code",
   "execution_count": null,
   "metadata": {},
   "outputs": [],
   "source": []
  },
  {
   "cell_type": "code",
   "execution_count": null,
   "metadata": {},
   "outputs": [],
   "source": []
  },
  {
   "cell_type": "code",
   "execution_count": null,
   "metadata": {},
   "outputs": [],
   "source": []
  },
  {
   "cell_type": "code",
   "execution_count": null,
   "metadata": {},
   "outputs": [],
   "source": []
  },
  {
   "cell_type": "code",
   "execution_count": null,
   "metadata": {},
   "outputs": [],
   "source": []
  },
  {
   "cell_type": "code",
   "execution_count": null,
   "metadata": {},
   "outputs": [],
   "source": []
  },
  {
   "cell_type": "code",
   "execution_count": null,
   "metadata": {},
   "outputs": [],
   "source": []
  },
  {
   "cell_type": "code",
   "execution_count": null,
   "metadata": {},
   "outputs": [],
   "source": []
  },
  {
   "cell_type": "code",
   "execution_count": null,
   "metadata": {},
   "outputs": [],
   "source": []
  },
  {
   "cell_type": "code",
   "execution_count": null,
   "metadata": {},
   "outputs": [],
   "source": []
  },
  {
   "cell_type": "code",
   "execution_count": null,
   "metadata": {},
   "outputs": [],
   "source": []
  },
  {
   "cell_type": "code",
   "execution_count": null,
   "metadata": {},
   "outputs": [],
   "source": []
  },
  {
   "cell_type": "code",
   "execution_count": null,
   "metadata": {},
   "outputs": [],
   "source": []
  },
  {
   "cell_type": "code",
   "execution_count": null,
   "metadata": {},
   "outputs": [],
   "source": []
  },
  {
   "cell_type": "code",
   "execution_count": null,
   "metadata": {},
   "outputs": [],
   "source": []
  },
  {
   "cell_type": "code",
   "execution_count": null,
   "metadata": {},
   "outputs": [],
   "source": []
  },
  {
   "cell_type": "code",
   "execution_count": null,
   "metadata": {},
   "outputs": [],
   "source": []
  },
  {
   "cell_type": "code",
   "execution_count": null,
   "metadata": {},
   "outputs": [],
   "source": []
  },
  {
   "cell_type": "code",
   "execution_count": null,
   "metadata": {},
   "outputs": [],
   "source": []
  }
 ],
 "metadata": {
  "kernelspec": {
   "display_name": "Python 3",
   "language": "python",
   "name": "python3"
  },
  "language_info": {
   "codemirror_mode": {
    "name": "ipython",
    "version": 3
   },
   "file_extension": ".py",
   "mimetype": "text/x-python",
   "name": "python",
   "nbconvert_exporter": "python",
   "pygments_lexer": "ipython3",
   "version": "3.6.6"
  }
 },
 "nbformat": 4,
 "nbformat_minor": 5
}
